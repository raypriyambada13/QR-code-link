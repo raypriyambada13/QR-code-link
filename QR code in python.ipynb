{
 "cells": [
  {
   "cell_type": "code",
   "execution_count": null,
   "id": "a8397292",
   "metadata": {},
   "outputs": [
    {
     "name": "stdout",
     "output_type": "stream",
     "text": [
      "Defaulting to user installation because normal site-packages is not writeable\n",
      "Requirement already satisfied: qrcode[pil] in c:\\users\\dell\\appdata\\roaming\\python\\python312\\site-packages (8.2)\n",
      "Requirement already satisfied: colorama in c:\\programdata\\anaconda3\\lib\\site-packages (from qrcode[pil]) (0.4.6)\n",
      "Requirement already satisfied: pillow>=9.1.0 in c:\\programdata\\anaconda3\\lib\\site-packages (from qrcode[pil]) (10.3.0)\n",
      "Note: you may need to restart the kernel to use updated packages.\n"
     ]
    }
   ],
   "source": [
    "pip install qrcode[pil]"
   ]
  },
  {
   "cell_type": "code",
   "execution_count": null,
   "id": "6dbb3fc8",
   "metadata": {},
   "outputs": [
    {
     "name": "stdout",
     "output_type": "stream",
     "text": [
      "QR Code generated successfully!\n"
     ]
    }
   ],
   "source": [
    "import qrcode\n",
    "data = \" https://raypriyambada13.github.io/My-digital-Diary/\"\n",
    "qr = qrcode.QRCode(\n",
    "    version=1,  # QR code size (1 to 40)\n",
    "    error_correction=qrcode.constants.ERROR_CORRECT_L,  # Error correction level\n",
    "    box_size=10,  # Size of each box in the QR grid\n",
    "    border=4,  # Border thickness\n",
    ")\n",
    "qr.add_data(data)\n",
    "qr.make(fit=True)\n",
    "img = qr.make_image(fill=\"black\", back_color=\"white\")\n",
    "img.save(\"qr_code.png\")\n",
    "\n",
    "print(\"QR Code generated successfully!\")\n"
   ]
  },
  {
   "cell_type": "code",
   "execution_count": null,
   "id": "99b44aed",
   "metadata": {},
   "outputs": [],
   "source": [
    "img = qr.make_image(fill=\"blue\", back_color=\"yellow\")\n",
    "img.save(\"custom_qr_code.png\")"
   ]
  },
  {
   "cell_type": "code",
   "execution_count": null,
   "id": "8f6242f5",
   "metadata": {},
   "outputs": [],
   "source": [
    "from PIL import Image"
   ]
  },
  {
   "cell_type": "code",
   "execution_count": null,
   "id": "182f27c6",
   "metadata": {},
   "outputs": [],
   "source": [
    "qr_code = Image.open(\"qr_code.png\")\n",
    "logo = Image.open(r\"C:\\Users\\DELL\\Downloads\\logo.png.png\")\n"
   ]
  },
  {
   "cell_type": "code",
   "execution_count": null,
   "id": "676f577c",
   "metadata": {},
   "outputs": [],
   "source": [
    "qr_code.paste(logo, ((qr_code.size[0] - logo.size[0]) // 2, (qr_code.size[1] - logo.size[1]) // 2), mask=logo)\n",
    "qr_code.save(\"qr_code_with_logo.png\")\n",
    "\n"
   ]
  }
 ],
 "metadata": {
  "kernelspec": {
   "display_name": "base",
   "language": "python",
   "name": "python3"
  },
  "language_info": {
   "codemirror_mode": {
    "name": "ipython",
    "version": 3
   },
   "file_extension": ".py",
   "mimetype": "text/x-python",
   "name": "python",
   "nbconvert_exporter": "python",
   "pygments_lexer": "ipython3",
   "version": "3.12.4"
  }
 },
 "nbformat": 4,
 "nbformat_minor": 5
}
